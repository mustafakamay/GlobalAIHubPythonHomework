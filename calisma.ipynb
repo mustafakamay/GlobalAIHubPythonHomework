{
 "cells": [
  {
   "cell_type": "code",
   "execution_count": 6,
   "metadata": {},
   "outputs": [
    {
     "name": "stdout",
     "output_type": "stream",
     "text": [
      "Bir sayı giriniz: 5\n",
      "girdiğiniz sayı 5\n",
      "<class 'int'>\n",
      "Bir ondalıklı sayı giriniz: 3.4\n",
      "girdiğiniz sayı 3.4\n",
      "<class 'float'>\n",
      "adınızı yazınız: mustafa\n",
      "adınız : \n",
      "<class 'str'>\n"
     ]
    }
   ],
   "source": [
    "sayi = int(input(\"Bir sayı giriniz: \"))\n",
    "print(\"girdiğiniz sayı {}\".format(sayi))\n",
    "print(type(sayi))\n",
    "\n",
    "sayi2 = float(input(\"Bir ondalıklı sayı giriniz: \"))\n",
    "print(\"girdiğiniz sayı {}\".format(sayi2))\n",
    "print(type(sayi2))\n",
    "\n",
    "yazı = str(input(\"adınızı yazınız: \"))\n",
    "print(\"adınız : \".format(yazı))\n",
    "\n",
    "print(type(yazı))\n"
   ]
  }
 ],
 "metadata": {
  "kernelspec": {
   "display_name": "Python 3",
   "language": "python",
   "name": "python3"
  },
  "language_info": {
   "codemirror_mode": {
    "name": "ipython",
    "version": 3
   },
   "file_extension": ".py",
   "mimetype": "text/x-python",
   "name": "python",
   "nbconvert_exporter": "python",
   "pygments_lexer": "ipython3",
   "version": "3.8.5"
  }
 },
 "nbformat": 4,
 "nbformat_minor": 4
}
