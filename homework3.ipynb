{
 "cells": [
  {
   "cell_type": "code",
   "execution_count": 4,
   "metadata": {},
   "outputs": [
    {
     "name": "stdout",
     "output_type": "stream",
     "text": [
      "9\n",
      "3 hakkınız kaldı\n",
      "Lütfen bir sayı tahmin ediniz: 23\n",
      "2 hakkınız kaldı\n",
      "Lütfen bir sayı tahmin ediniz: 34\n",
      "1 hakkınız kaldı\n",
      "Lütfen bir sayı tahmin ediniz: 45\n",
      "Game over\n"
     ]
    }
   ],
   "source": [
    "import random\n",
    "\n",
    "sayi = random.choice(range(10))\n",
    "\n",
    "hak = 3\n",
    "while hak > 0 :\n",
    "    print(\"{} hakkınız kaldı\".format(hak))\n",
    "    tahmin = int(input(\"Lütfen bir sayı tahmin ediniz: \"))\n",
    "\n",
    "    if tahmin != sayi and hak != 0 :\n",
    "        \n",
    "        hak = hak - 1\n",
    "\n",
    "    else :\n",
    "        print(\"Tebrikler\")\n",
    "        break\n",
    "if hak == 0 :\n",
    "    print(\"Game over\")"
   ]
  }
 ],
 "metadata": {
  "kernelspec": {
   "display_name": "Python 3",
   "language": "python",
   "name": "python3"
  },
  "language_info": {
   "codemirror_mode": {
    "name": "ipython",
    "version": 3
   },
   "file_extension": ".py",
   "mimetype": "text/x-python",
   "name": "python",
   "nbconvert_exporter": "python",
   "pygments_lexer": "ipython3",
   "version": "3.8.5"
  }
 },
 "nbformat": 4,
 "nbformat_minor": 4
}
