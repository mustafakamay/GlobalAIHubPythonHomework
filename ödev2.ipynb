{
 "cells": [
  {
   "cell_type": "code",
   "execution_count": 1,
   "metadata": {},
   "outputs": [
    {
     "name": "stdout",
     "output_type": "stream",
     "text": [
      "Adınızı giriniz: mustafa\n",
      "Soyadınızı giriniz: kamay\n",
      "Yaşınızı giriniz: 27\n",
      "Doğum yılınızı giriniz: 1993\n",
      "mustafa\n",
      "kamay\n",
      "27\n",
      "1993\n",
      "You can go out to the street\n"
     ]
    }
   ],
   "source": [
    "liste = []\n",
    "\n",
    "name = input(\"Adınızı giriniz: \")\n",
    "liste.append(name)\n",
    "surname = input(\"Soyadınızı giriniz: \")\n",
    "liste.append(surname)\n",
    "age = input(\"Yaşınızı giriniz: \")\n",
    "liste.append(age)\n",
    "year = input(\"Doğum yılınızı giriniz: \")\n",
    "liste.append(year)\n",
    "\n",
    "for x in liste :\n",
    "  print(x)\n",
    "\n",
    "if int(liste[2])<18 :\n",
    "  print(\"You can't go out because its too dangerous\")\n",
    "else : \n",
    "  print(\"You can go out to the street\")"
   ]
  }
 ],
 "metadata": {
  "kernelspec": {
   "display_name": "Python 3",
   "language": "python",
   "name": "python3"
  },
  "language_info": {
   "codemirror_mode": {
    "name": "ipython",
    "version": 3
   },
   "file_extension": ".py",
   "mimetype": "text/x-python",
   "name": "python",
   "nbconvert_exporter": "python",
   "pygments_lexer": "ipython3",
   "version": "3.8.5"
  }
 },
 "nbformat": 4,
 "nbformat_minor": 4
}
